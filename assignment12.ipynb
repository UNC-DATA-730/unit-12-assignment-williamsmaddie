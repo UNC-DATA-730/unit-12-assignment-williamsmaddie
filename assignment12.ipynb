{
 "cells": [
  {
   "cell_type": "markdown",
   "id": "6ccee0a4-a84e-4d9c-852f-6181304636a8",
   "metadata": {},
   "source": [
    "Load the `ISLR2` and `tidyverse` packages."
   ]
  },
  {
   "cell_type": "code",
   "execution_count": null,
   "id": "bd2f144e-0f63-4fd0-8bbf-ea6d12441682",
   "metadata": {},
   "outputs": [],
   "source": [
    "\n",
    "\n"
   ]
  },
  {
   "cell_type": "markdown",
   "id": "da581705-7efd-4601-9c62-164f18eeffa9",
   "metadata": {},
   "source": [
    "`glimpse` the `Auto` dataset (this comes from the `ISLR2` package)."
   ]
  },
  {
   "cell_type": "code",
   "execution_count": null,
   "id": "2da8b434-17f0-431d-8249-f8732185317a",
   "metadata": {},
   "outputs": [],
   "source": [
    "\n",
    "\n"
   ]
  },
  {
   "cell_type": "markdown",
   "id": "0475af12-8f3a-4514-ad61-ee34c3854dd2",
   "metadata": {},
   "source": [
    "Plot `mpg`  as a function of `displacement`."
   ]
  },
  {
   "cell_type": "code",
   "execution_count": null,
   "id": "dcdc21aa-3da6-464d-8685-0141cd1bba93",
   "metadata": {},
   "outputs": [],
   "source": [
    "\n",
    "\n"
   ]
  },
  {
   "cell_type": "markdown",
   "id": "4b63365e-aa0a-47d7-b93f-0f97436b270b",
   "metadata": {},
   "source": [
    "❓Does the relationship of `mpg` to `displacement` look linear?"
   ]
  },
  {
   "cell_type": "code",
   "execution_count": null,
   "id": "99a6d1b3-d1e8-4039-bd41-c3391211bb6f",
   "metadata": {},
   "outputs": [],
   "source": [
    "\n",
    "\n"
   ]
  },
  {
   "cell_type": "markdown",
   "id": "ba320947-154e-4958-acde-b2b582e737b1",
   "metadata": {},
   "source": [
    "Model `mpg` as a function of `displacement` and `cylinders`. \n",
    "\n",
    "- Transform the `displacement` variable using a `spline` or `polynomial` transform. (Hint: use `step_ns` or `step_poly`).\n",
    "- Combine `step_mutate(cyl_cat = factor(cylinders))` followed by `step_dummy(cyl_cat)` and `step_rm(cylinders)` to convert `cylinders` to categorical data for the model.\n",
    "\n",
    "Assuming you name your fitted model `mod_fit` the code below can be used to visualize your model:\n",
    "\n",
    "```r\n",
    "predict(mod_fit, rec |> juice()) |>\n",
    "    bind_cols(Auto) |>\n",
    "ggplot(aes(x = displacement, y = mpg)) +\n",
    "    geom_point(size = 1, alpha = 0.35) +\n",
    "    geom_line(aes(y = .pred, color = factor(cylinders)), linewidth = 1)\n",
    "```\n",
    "\n",
    "**Create and visualize your model below...**"
   ]
  },
  {
   "cell_type": "code",
   "execution_count": null,
   "id": "1821b4e9-0f37-445a-9ffe-7c9064795510",
   "metadata": {},
   "outputs": [],
   "source": [
    "\n",
    "\n"
   ]
  }
 ],
 "metadata": {
  "kernelspec": {
   "display_name": "R",
   "language": "R",
   "name": "ir"
  },
  "language_info": {
   "codemirror_mode": "r",
   "file_extension": ".r",
   "mimetype": "text/x-r-source",
   "name": "R",
   "pygments_lexer": "r",
   "version": "4.2.3"
  }
 },
 "nbformat": 4,
 "nbformat_minor": 5
}
